{
 "cells": [
  {
   "cell_type": "markdown",
   "metadata": {},
   "source": [
    "As. 5"
   ]
  },
  {
   "cell_type": "markdown",
   "metadata": {},
   "source": [
    "group 6"
   ]
  },
  {
   "cell_type": "code",
   "execution_count": 842,
   "metadata": {},
   "outputs": [],
   "source": [
    "import numpy as np \n",
    "import math \n",
    "from yahoofinancials import YahooFinancials\n",
    "import pandas as pd\n",
    "from matplotlib import pyplot as plt \n",
    "from matplotlib.lines import Line2D\n",
    "from sklearn.linear_model import LinearRegression\n",
    "import statsmodels.api as sm\n",
    "from statsmodels import regression"
   ]
  },
  {
   "cell_type": "raw",
   "metadata": {},
   "source": [
    "1. collect data \n",
    "2. log returns of adj close\n",
    "ETF=EFY=SPY is just like S&P500\n",
    "3. "
   ]
  },
  {
   "cell_type": "code",
   "execution_count": 843,
   "metadata": {},
   "outputs": [],
   "source": [
    "def mean(portfolio):\n",
    "    mean_val = sum(portfolio)/len(portfolio)\n",
    "    return mean_val\n",
    "\n",
    "def exp_value(portfolio, weight):\n",
    "    portfolio = np.asarray(portfolio)\n",
    "    weight = np.asarray(weight)\n",
    "    exp_values = sum(weight * portfolio)/sum(weight)\n",
    "    return exp_values\n",
    "\n",
    "\n",
    "def weekly_returns(portfolio):\n",
    "    weekly_return = []\n",
    "    for i in range(0,len(portfolio)):\n",
    "        if i == len(portfolio)-1:\n",
    "            break\n",
    "        ret_val = np.log((float(portfolio['adjclose'][i+1])/float(portfolio['adjclose'][i])))\n",
    "        weekly_return.append(ret_val)\n",
    "    return weekly_return\n",
    "\n",
    "def yearly_returns(weekly_returns):\n",
    "    year_ret = np.add.reduceat(weekly_returns, np.arange(0,len(weekly_returns),52))\n",
    "    return year_ret\n",
    "\n",
    "def port_allocation():\n",
    "    weights = np.round([*np.arange(0,1,0.1)],1)\n",
    "\n",
    "    port_weights = []\n",
    "\n",
    "    for i in weights:\n",
    "        for j in weights:\n",
    "            for k in weights: \n",
    "                if i+j+k == 1:\n",
    "                    port_weights.append([i,j,k])\n",
    "    return port_weights\n",
    "\n",
    "\n",
    "\n",
    "def weight_text(weight):\n",
    "    desc =(\n",
    "        f\"Asset 1 :\"  + str(round(weight[0]*100)) +\"%\"+\"\\n\" + \n",
    "        f\"Asset 2 : \" + str(round(weight[1]*100)) +\"%\"+\"\\n\" + \n",
    "        f\"Asset 3 : \" + str(round(weight[2]*100)) +\"%\")\n",
    "    return desc\n",
    " \n",
    "def linreg(x,y):\n",
    "    x = sm.add_constant(x)\n",
    "    model = regression.linear_model.OLS(y,x).fit()\n",
    "    return model \n",
    "\n",
    "\n",
    "def calculate_parameters(x,y):\n",
    "    model = linreg(x,y)\n",
    "    alpha = model.params[0]\n",
    "    beta = model.params[1]\n",
    "    var_ei = np.var(model.resid,ddof=1)\n",
    "    return alpha, beta, var_ei"
   ]
  },
  {
   "cell_type": "code",
   "execution_count": 844,
   "metadata": {},
   "outputs": [],
   "source": [
    "tickerSymbol=['AXP','MCD','GOOG','XOM','IBM','NKE','WMT','KO','^GSPC']\n",
    "portfolio=pd.DataFrame()"
   ]
  },
  {
   "cell_type": "raw",
   "metadata": {},
   "source": []
  },
  {
   "cell_type": "code",
   "execution_count": 845,
   "metadata": {},
   "outputs": [],
   "source": [
    "axp_data = YahooFinancials(\"AXP\")\n",
    "axp = axp_data.get_historical_price_data('2007-01-01','2013-01-01','Weekly')\n",
    "axp_format = pd.DataFrame(axp['AXP']['prices'])\n",
    "\n",
    "mcd_data = YahooFinancials(\"MCD\")\n",
    "mcd = mcd_data.get_historical_price_data('2007-01-01','2013-01-01','Weekly')\n",
    "mcd_format = pd.DataFrame(mcd['MCD']['prices'])\n",
    "\n",
    "goog_data = YahooFinancials(\"GOOG\")\n",
    "goog = goog_data.get_historical_price_data('2007-01-01','2013-01-01','Weekly')\n",
    "goog_format = pd.DataFrame(goog['GOOG']['prices'])\n",
    "\n",
    "xom_data = YahooFinancials(\"XOM\")\n",
    "xom = xom_data.get_historical_price_data('2007-01-01','2013-01-01','Weekly')\n",
    "xom_format = pd.DataFrame(xom['XOM']['prices'])\n",
    "\n",
    "ibm_data = YahooFinancials(\"IBM\")\n",
    "ibm = ibm_data.get_historical_price_data('2007-01-01','2013-01-01','Weekly')\n",
    "ibm_format = pd.DataFrame(ibm['IBM']['prices'])\n",
    "\n",
    "nke_data = YahooFinancials(\"NKE\")\n",
    "nke = nke_data.get_historical_price_data('2007-01-01','2013-01-01','Weekly')\n",
    "nke_format = pd.DataFrame(nke['NKE']['prices'])\n",
    "\n",
    "wmt_data = YahooFinancials(\"WMT\")\n",
    "wmt = wmt_data.get_historical_price_data('2007-01-01','2013-01-01','Weekly')\n",
    "wmt_format = pd.DataFrame(wmt['WMT']['prices'])\n",
    "\n",
    "ko_data = YahooFinancials(\"KO\")\n",
    "ko = ko_data.get_historical_price_data('2007-01-01','2013-01-01','Weekly')\n",
    "ko_format = pd.DataFrame(ko['KO']['prices'])\n",
    "\n",
    "sp500_data = YahooFinancials(\"^GSPC\")\n",
    "sp500 = sp500_data.get_historical_price_data('2007-01-01','2013-01-01','Weekly')\n",
    "sp500_format = pd.DataFrame(sp500['^GSPC']['prices'])"
   ]
  },
  {
   "cell_type": "code",
   "execution_count": 846,
   "metadata": {},
   "outputs": [],
   "source": [
    "portfolio['AXP']=axp_format['adjclose']\n",
    "portfolio['MCD']=mcd_format['adjclose']\n",
    "portfolio['GOOG']=goog_format['adjclose']\n",
    "portfolio['XOM']=xom_format['adjclose']\n",
    "portfolio['IBM']=ibm_format['adjclose']\n",
    "portfolio['NKE']=nke_format['adjclose']\n",
    "portfolio['WMT']=wmt_format['adjclose']\n",
    "portfolio['KO']=ko_format['adjclose']\n",
    "portfolio['^GSPC']=sp500_format['adjclose']"
   ]
  },
  {
   "cell_type": "code",
   "execution_count": 847,
   "metadata": {},
   "outputs": [
    {
     "name": "stdout",
     "output_type": "stream",
     "text": [
      "         AXP        MCD       GOOG        XOM        IBM        NKE  \\\n",
      "0  45.246086  26.971581  12.134268  40.553871  54.141140   9.966840   \n",
      "1  45.266178  27.392824  12.577855  40.232719  55.208179  10.060623   \n",
      "2  44.560444  27.758324  12.198029  40.714432  53.446434  10.078782   \n",
      "3  44.376331  26.593718  12.349710  40.758743  54.157806   9.600758   \n",
      "4  44.614151  27.591061  11.992549  41.827400  55.113674  10.105001   \n",
      "\n",
      "         WMT         KO        ^GSPC  \n",
      "0  32.887573  14.330647  1409.709961  \n",
      "1  33.297016  14.416762  1430.729980  \n",
      "2  33.526020  14.330647  1430.500000  \n",
      "3  33.081882  14.202956  1422.180054  \n",
      "4  33.366425  14.324711  1448.390015  \n"
     ]
    }
   ],
   "source": [
    "print(portfolio.head())"
   ]
  },
  {
   "cell_type": "markdown",
   "metadata": {},
   "source": [
    "#### Log Returns"
   ]
  },
  {
   "cell_type": "code",
   "execution_count": 848,
   "metadata": {},
   "outputs": [],
   "source": [
    "#market continuous returns \n",
    "\n",
    "# American Express, MCD, Exxon, IBM, Nike, Wal-Mart, Coca Cola \n",
    "#axp\n",
    "axp_weekly_ret = weekly_returns(axp_format)\n",
    "axp_yearly = np.log(np.array(axp_format['adjclose'][1:])/np.array(axp_format['adjclose'][:-1]))\n",
    "axp_var = np.var(axp_yearly)\n",
    "\n",
    "#mcd\n",
    "mcd_weekly_ret = weekly_returns(mcd_format)\n",
    "mcd_yearly = np.log(np.array(mcd_format['adjclose'][1:])/np.array(mcd_format['adjclose'][:-1]))\n",
    "mcd_var = np.var(mcd_yearly)\n",
    "\n",
    "goog_weekly_ret = weekly_returns(goog_format)\n",
    "goog_yearly = np.log(np.array(goog_format['adjclose'][1:])/np.array(goog_format['adjclose'][:-1]))\n",
    "goog_var = np.var(goog_yearly)\n",
    "#xom\n",
    "xom_weekly_ret = weekly_returns(xom_format)\n",
    "xom_yearly = np.log(np.array(xom_format['adjclose'][1:])/np.array(xom_format['adjclose'][:-1]))\n",
    "xom_var = np.var(xom_yearly)\n",
    "#ibm\n",
    "ibm_weekly_ret = weekly_returns(ibm_format)\n",
    "ibm_yearly = np.log(np.array(ibm_format['adjclose'][1:])/np.array(ibm_format['adjclose'][:-1]))\n",
    "ibm_var = np.var(ibm_yearly)\n",
    "#nke\n",
    "nke_weekly_ret = weekly_returns(nke_format)\n",
    "nke_yearly = np.log(np.array(nke_format['adjclose'][1:])/np.array(nke_format['adjclose'][:-1]))\n",
    "nke_var = np.var(nke_yearly)\n",
    "#wmt \n",
    "wmt_weekly_ret = weekly_returns(wmt_format)\n",
    "wmt_yearly = np.log(np.array(wmt_format['adjclose'][1:])/np.array(wmt_format['adjclose'][:-1]))\n",
    "wmt_var = np.var(wmt_yearly)\n",
    "#ko\n",
    "ko_weekly_ret = weekly_returns(ko_format)\n",
    "ko_yearly = np.log(np.array(ko_format['adjclose'][1:])/np.array(ko_format['adjclose'][:-1]))\n",
    "ko_var = np.var(ko_yearly)\n",
    "\n",
    "#s&p500\n",
    "sp500_weekly_ret = weekly_returns(sp500_format)\n",
    "sp500_yearly = np.log(np.array(sp500_format['adjclose'][1:])/np.array(sp500_format['adjclose'][:-1]))\n",
    "sp500_var = np.var(sp500_yearly)\n",
    "\n",
    "LogRet = np.array([axp_yearly,mcd_yearly,xom_yearly,ibm_yearly,nke_yearly,wmt_yearly,ko_yearly])\n",
    "\n"
   ]
  },
  {
   "cell_type": "code",
   "execution_count": 1,
   "metadata": {},
   "outputs": [
    {
     "ename": "NameError",
     "evalue": "name 'np' is not defined",
     "output_type": "error",
     "traceback": [
      "\u001b[1;31m---------------------------------------------------------------------------\u001b[0m",
      "\u001b[1;31mNameError\u001b[0m                                 Traceback (most recent call last)",
      "Cell \u001b[1;32mIn[1], line 2\u001b[0m\n\u001b[0;32m      1\u001b[0m \u001b[38;5;66;03m#market mean and var \u001b[39;00m\n\u001b[1;32m----> 2\u001b[0m market_mean \u001b[38;5;241m=\u001b[39m \u001b[38;5;241m52\u001b[39m \u001b[38;5;241m*\u001b[39m np\u001b[38;5;241m.\u001b[39mmean(sp500_yearly)\n\u001b[0;32m      3\u001b[0m \u001b[38;5;28mprint\u001b[39m(\u001b[38;5;124mf\u001b[39m\u001b[38;5;124m\"\u001b[39m\u001b[38;5;124mMarket Mean: \u001b[39m\u001b[38;5;132;01m{\u001b[39;00mmarket_mean\u001b[38;5;132;01m}\u001b[39;00m\u001b[38;5;124m\"\u001b[39m)\n\u001b[0;32m      5\u001b[0m market_var \u001b[38;5;241m=\u001b[39m \u001b[38;5;241m52\u001b[39m\u001b[38;5;241m*\u001b[39mnp\u001b[38;5;241m.\u001b[39mcov(sp500_yearly)\n",
      "\u001b[1;31mNameError\u001b[0m: name 'np' is not defined"
     ]
    }
   ],
   "source": [
    "#market mean and var \n",
    "market_mean = 52 * np.mean(sp500_yearly)\n",
    "print(f\"Market Mean: {market_mean}\")\n",
    "\n",
    "market_var = 52*np.cov(sp500_yearly)\n",
    "print(f\"Market Var: {market_var}\")\n",
    "#these results are ok with the class\n"
   ]
  },
  {
   "cell_type": "code",
   "execution_count": 850,
   "metadata": {},
   "outputs": [],
   "source": [
    "X1 = portfolio[['AXP']]\n",
    "X2 = portfolio[['MCD']]\n",
    "X3= portfolio[['GOOG']]\n",
    "X4= portfolio[['XOM']]\n",
    "X5= portfolio[['IBM']]\n",
    "X6= portfolio[['NKE']]\n",
    "X7= portfolio[['WMT']]\n",
    "X8= portfolio[['KO']]\n",
    "y = portfolio['^GSPC']"
   ]
  },
  {
   "cell_type": "code",
   "execution_count": null,
   "metadata": {},
   "outputs": [],
   "source": [
    "#we have to take regression of log returns"
   ]
  },
  {
   "cell_type": "code",
   "execution_count": 851,
   "metadata": {},
   "outputs": [
    {
     "name": "stdout",
     "output_type": "stream",
     "text": [
      "Coefficients: [17.66141457]\n",
      "Intercept: 595.5241896865082\n"
     ]
    },
    {
     "data": {
      "image/png": "[encoded data removed]",
      "text/plain": [
       "<Figure size 576x396 with 1 Axes>"
      ]
     },
     "metadata": {},
     "output_type": "display_data"
    }
   ],
   "source": [
    "\n",
    "# Create a linear regression model\n",
    "model1 = LinearRegression()\n",
    "\n",
    "# Fit the model\n",
    "model1.fit(X1, y)\n",
    "\n",
    "# Make predictions\n",
    "y_pred = model1.predict(X1)\n",
    "\n",
    "# Print coefficients and intercept\n",
    "print(\"Coefficients:\", model1.coef_)\n",
    "print(\"Intercept:\", model1.intercept_)\n",
    "\n",
    "# Plot the regression line\n",
    "plt.scatter(X1, y, color='g')\n",
    "plt.plot(X1, y_pred, color='blue', linewidth=2)\n",
    "plt.xlabel('AXP')\n",
    "plt.ylabel('GSPC')\n",
    "plt.title('Linear Regression: AXM vs GSPC')\n",
    "plt.show()"
   ]
  },
  {
   "cell_type": "raw",
   "metadata": {},
   "source": [
    "calculate yearly covariance matrix\n"
   ]
  },
  {
   "cell_type": "code",
   "execution_count": 852,
   "metadata": {},
   "outputs": [
    {
     "data": {
      "text/plain": [
       "array([[0.19362158, 0.03681034, 0.05067637, 0.05974401, 0.07225228,\n",
       "        0.03243505, 0.03414141],\n",
       "       [0.03681034, 0.03710549, 0.02234445, 0.02144061, 0.03150686,\n",
       "        0.01737415, 0.01811787],\n",
       "       [0.05067637, 0.02234445, 0.05518932, 0.03096014, 0.03212199,\n",
       "        0.0216058 , 0.02465012],\n",
       "       [0.05974401, 0.02144061, 0.03096014, 0.0608988 , 0.04139489,\n",
       "        0.0199286 , 0.02169174],\n",
       "       [0.07225228, 0.03150686, 0.03212199, 0.04139489, 0.09448874,\n",
       "        0.03026365, 0.02709732],\n",
       "       [0.03243505, 0.01737415, 0.0216058 , 0.0199286 , 0.03026365,\n",
       "        0.04045665, 0.01808287],\n",
       "       [0.03414141, 0.01811787, 0.02465012, 0.02169174, 0.02709732,\n",
       "        0.01808287, 0.03746551]])"
      ]
     },
     "execution_count": 852,
     "metadata": {},
     "output_type": "execute_result"
    }
   ],
   "source": [
    "#covariance matrix\n",
    "covar_matrix_pre = np.stack(LogRet, axis=0)\n",
    "covar_matrix = 52 * np.cov(covar_matrix_pre)\n",
    "covar_matrix\n"
   ]
  },
  {
   "cell_type": "code",
   "execution_count": 853,
   "metadata": {},
   "outputs": [],
   "source": [
    "apx_alpha, apx_beta, apx_var = calculate_parameters(sp500_yearly,axp_yearly)\n",
    "mcd_alpha, mcd_beta, mcd_var = calculate_parameters(sp500_yearly,mcd_yearly)\n",
    "goog_alpha, goog_beta, goog_var = calculate_parameters(sp500_yearly,goog_yearly)\n",
    "xom_alpha, xom_beta, xom_var = calculate_parameters(sp500_yearly,xom_yearly)\n",
    "ibm_alpha, ibm_beta, ibm_var = calculate_parameters(sp500_yearly,ibm_yearly)\n",
    "wmt_alpha, wmt_beta, wmt_var = calculate_parameters(sp500_yearly,wmt_yearly)\n",
    "ko_alpha, ko_beta, ko_var = calculate_parameters(sp500_yearly,ko_yearly)"
   ]
  },
  {
   "cell_type": "code",
   "execution_count": 854,
   "metadata": {},
   "outputs": [
    {
     "name": "stdout",
     "output_type": "stream",
     "text": [
      "Expected Return:0.037724635311793646\n"
     ]
    }
   ],
   "source": [
    "X_val  = np.array([1/7] for i in range(7))\n",
    "mean_returns = np.array([np.mean(i) for i in covar_matrix])\n",
    "stds = np.array([np.std(i) for i in covar_matrix])\n",
    "\n",
    "exp_ret = np.sum((1/7)*mean_returns)\n",
    "print(f\"Expected Return:{exp_ret}\")\n"
   ]
  },
  {
   "cell_type": "code",
   "execution_count": 855,
   "metadata": {},
   "outputs": [
    {
     "name": "stdout",
     "output_type": "stream",
     "text": [
      "Variance:4.265506647910331e-06\n"
     ]
    }
   ],
   "source": [
    "var_val = np.var((1/7)*mean_returns)\n",
    "print(f\"Variance:{var_val}\")"
   ]
  },
  {
   "cell_type": "code",
   "execution_count": 856,
   "metadata": {},
   "outputs": [],
   "source": [
    "alpha_val = np.array([apx_alpha, mcd_alpha,goog_alpha,xom_alpha,ibm_alpha,wmt_alpha,ko_alpha])\n",
    "beta_val = np.array([apx_beta, mcd_beta,goog_beta,xom_beta,ibm_beta,wmt_beta,ko_beta])\n",
    "var_val = np.array([apx_var, mcd_var,goog_var,xom_var,ibm_var,wmt_var,ko_var])"
   ]
  },
  {
   "cell_type": "code",
   "execution_count": 857,
   "metadata": {},
   "outputs": [
    {
     "name": "stdout",
     "output_type": "stream",
     "text": [
      "Expected Return: 0.0015982620680204717\n"
     ]
    }
   ],
   "source": [
    "exp_ret_2 = np.sum((1/7)*alpha_val) + np.sum((1/7)*np.mean(sp500_yearly)*beta_val)\n",
    "print(f\"Expected Return: {exp_ret_2}\")"
   ]
  },
  {
   "cell_type": "code",
   "execution_count": 858,
   "metadata": {},
   "outputs": [
    {
     "data": {
      "text/plain": [
       "0.8116687718741826"
      ]
     },
     "execution_count": 858,
     "metadata": {},
     "output_type": "execute_result"
    }
   ],
   "source": [
    "beta_val_2 = np.sum([(1/7)*beta_val])\n",
    "beta_val_2"
   ]
  },
  {
   "cell_type": "code",
   "execution_count": 859,
   "metadata": {},
   "outputs": [
    {
     "name": "stdout",
     "output_type": "stream",
     "text": [
      "Variance: [0.00146694 0.00046884 0.00108868 0.00046424 0.00052821 0.0005402\n",
      " 0.00043144]\n"
     ]
    }
   ],
   "source": [
    "var_val_2 = (beta_val_2 ** 2)*sp500_var + np.sum(((1/7)**2)*var_val)\n",
    "print(f\"Variance: {var_val}\")"
   ]
  }
 ],
 "metadata": {
  "kernelspec": {
   "display_name": "Python 3 (ipykernel)",
   "language": "python",
   "name": "python3"
  },
  "language_info": {
   "codemirror_mode": {
    "name": "ipython",
    "version": 3
   },
   "file_extension": ".py",
   "mimetype": "text/x-python",
   "name": "python",
   "nbconvert_exporter": "python",
   "pygments_lexer": "ipython3",
   "version": "3.11.4"
  },
  "vscode": {
   "interpreter": {
    "hash": "dc3e6ebf61220bf3408b9fbfbc4e1e7353a1de38907fa453a2dfff4bbdfb6344"
   }
  }
 },
 "nbformat": 4,
 "nbformat_minor": 2
}
